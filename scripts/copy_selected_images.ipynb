{
 "cells": [
  {
   "cell_type": "code",
   "execution_count": null,
   "metadata": {},
   "outputs": [],
   "source": [
    "import os, sys\n",
    "import shutil\n",
    "from loguru import logger\n",
    "from tqdm import tqdm\n",
    "\n",
    "import geopandas as gpd\n",
    "\n",
    "sys.path.insert(1, 'scripts')\n",
    "import functions.fct_misc as fct_misc\n",
    "\n",
    "os.chdir('/mnt/data-01/gsalamin/occupation-toitures')"
   ]
  },
  {
   "cell_type": "code",
   "execution_count": null,
   "metadata": {},
   "outputs": [],
   "source": [
    "logger=fct_misc.format_logger(logger)"
   ]
  },
  {
   "cell_type": "code",
   "execution_count": null,
   "metadata": {},
   "outputs": [],
   "source": [
    "tiles=gpd.read_file('processed/tiles/tiles.gpkg', layer='ok_tiles')\n",
    "coppied_files=[] "
   ]
  },
  {
   "cell_type": "code",
   "execution_count": null,
   "metadata": {},
   "outputs": [],
   "source": [
    "for name in tqdm(tiles['TileName'].values, desc='Copy files'):\n",
    "    dest_path=os.path.join('initial/images/true_ortho_2019', name + '.tif')\n",
    "    src_path=os.path.join('/mnt/s3/proj-rooftops/02_Data/initial/Geneva/ORTHOPHOTOS/2019/TIFF_TRUEORTHO', name + '.tif')\n",
    "    if not os.path.isfile(dest_path): \n",
    "        try:\n",
    "            shutil.copy(src_path, dest_path)\n",
    "            shutil.copy(src_path.replace('tif', 'tfw'), dest_path.replace('tif', 'tfw'))\n",
    "        except FileNotFoundError:\n",
    "            logger.warning(f'The files for the image {name} could not be found.')\n",
    "            continue\n",
    "        coppied_files.append(name+'.tif')"
   ]
  },
  {
   "cell_type": "code",
   "execution_count": null,
   "metadata": {},
   "outputs": [],
   "source": []
  }
 ],
 "metadata": {
  "kernelspec": {
   "display_name": "rooftops",
   "language": "python",
   "name": "python3"
  },
  "language_info": {
   "codemirror_mode": {
    "name": "ipython",
    "version": 3
   },
   "file_extension": ".py",
   "mimetype": "text/x-python",
   "name": "python",
   "nbconvert_exporter": "python",
   "pygments_lexer": "ipython3",
   "version": "3.8.10"
  },
  "orig_nbformat": 4,
  "vscode": {
   "interpreter": {
    "hash": "53ebb9d220db94a04bb1b2f3c0e5222f1343d55f2303b697fa8a9e3be77a3d68"
   }
  }
 },
 "nbformat": 4,
 "nbformat_minor": 2
}
