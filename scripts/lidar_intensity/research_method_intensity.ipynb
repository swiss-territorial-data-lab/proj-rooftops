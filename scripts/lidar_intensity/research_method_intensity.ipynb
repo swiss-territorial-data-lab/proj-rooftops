{
 "cells": [
  {
   "cell_type": "code",
   "execution_count": null,
   "metadata": {},
   "outputs": [],
   "source": [
    "import os, sys\n",
    "import yaml\n",
    "from loguru import logger\n",
    "from tqdm import tqdm\n",
    "\n",
    "import laspy\n",
    "# import PDAL\n",
    "import numpy as np\n",
    "\n",
    "import matplotlib.pyplot as plt\n"
   ]
  },
  {
   "cell_type": "code",
   "execution_count": null,
   "metadata": {},
   "outputs": [],
   "source": [
    "sys.path.insert(1, '..')\n",
    "import functions.fct_misc as fct"
   ]
  },
  {
   "cell_type": "code",
   "execution_count": null,
   "metadata": {},
   "outputs": [],
   "source": [
    "INPUT='C:/Users/gwena/Documents/STDL/2_En_cours/occupation-toitures/02_Data/initial/LiDAR/2498500_1117500.las'\n",
    "WORKING_DIR='C:/Users/gwena/Documents/STDL/2_En_cours/occupation-toitures/02_Data'"
   ]
  },
  {
   "cell_type": "code",
   "execution_count": null,
   "metadata": {},
   "outputs": [],
   "source": [
    "logger=fct.format_logger(logger)\n",
    "os.chdir(WORKING_DIR)"
   ]
  },
  {
   "cell_type": "code",
   "execution_count": null,
   "metadata": {},
   "outputs": [],
   "source": [
    "las_tile=laspy.read(INPUT)"
   ]
  },
  {
   "cell_type": "code",
   "execution_count": null,
   "metadata": {},
   "outputs": [],
   "source": [
    "plt.hist(las_tile.intensity)\n",
    "plt.yscale('log')\n",
    "plt.title(\"Histogram of the Intensity Dimension\")"
   ]
  },
  {
   "cell_type": "code",
   "execution_count": null,
   "metadata": {},
   "outputs": [],
   "source": [
    "logger.info('Metrics:')\n",
    "logger.info(f'The data are all between {las_tile.intensity.min()} and {las_tile.intensity.max()} ' +\n",
    "            f'around a median of {np.median(las_tile.intensity)} with a standard deviation of {las_tile.intensity.std().round(2)} '  +\n",
    "            f'and a mean of {las_tile.intensity.mean().round(2)}.')"
   ]
  },
  {
   "cell_type": "code",
   "execution_count": null,
   "metadata": {},
   "outputs": [],
   "source": [
    "las_tile.intensity.shape"
   ]
  },
  {
   "cell_type": "code",
   "execution_count": null,
   "metadata": {},
   "outputs": [],
   "source": [
    "from whitebox import WhiteboxTools\n",
    "\n",
    "wbt = WhiteboxTools()\n",
    "# wbt.set_working_dir(WORKING_DIRECTORY)"
   ]
  },
  {
   "cell_type": "code",
   "execution_count": null,
   "metadata": {},
   "outputs": [],
   "source": [
    "wbt.help()"
   ]
  },
  {
   "cell_type": "code",
   "execution_count": null,
   "metadata": {},
   "outputs": [],
   "source": [
    "wbt.lidar_info(\n",
    "    INPUT, \n",
    "    'C:/Users/gwena/Documents/STDL/2_En_cours/occupation-toitures/02_Data/processed/test_lidar/lidar_info.html', \n",
    "    density=True, \n",
    "    vlr=True, \n",
    "    geokeys=True,\n",
    ")"
   ]
  },
  {
   "cell_type": "code",
   "execution_count": null,
   "metadata": {},
   "outputs": [],
   "source": [
    "for length in tqdm([0.3, 0.5, 1]):\n",
    "    for gird_size in [x / 10.0 for x in range(3, 6)] + [1]:\n",
    "        radius=length\n",
    "        resolution=gird_size\n",
    "        return_points='all'\n",
    "        filename=f'lidar_intentity_{str(resolution).replace(\".\", \"pt\")}_{str(radius).replace(\".\", \"pt\")}_{return_points}.tif'\n",
    "        wbt.lidar_idw_interpolation(\n",
    "            i=INPUT, \n",
    "            output=f'C:/Users/gwena/Documents/STDL/2_En_cours/occupation-toitures/02_Data/processed/test_lidar/IDW/{filename}', \n",
    "            parameter=\"intensity\", \n",
    "            returns=return_points,\n",
    "            exclude_cls='1,2,3,5,7,9,13,15,16,19',\n",
    "            radius=radius,\n",
    "            resolution=resolution,\n",
    "        )"
   ]
  },
  {
   "cell_type": "code",
   "execution_count": null,
   "metadata": {},
   "outputs": [],
   "source": [
    "[x / 10.0 for x in range(3, 6)] + [1]"
   ]
  },
  {
   "cell_type": "code",
   "execution_count": null,
   "metadata": {},
   "outputs": [],
   "source": [
    "for length in [0.3, 0.5, 1]:\n",
    "    for gird_size in [x / 10.0 for x in range(3, 6)] + [1]:\n",
    "        radius=length\n",
    "        resolution=gird_size\n",
    "        return_points='all'\n",
    "        filename=f'lidar_intentity_{str(resolution).replace(\".\", \"pt\")}_{str(radius).replace(\".\", \"pt\")}_{return_points}.tif'\n",
    "        wbt.lidar_nearest_neighbour_gridding(\n",
    "            i=INPUT, \n",
    "            output=f'C:/Users/gwena/Documents/STDL/2_En_cours/occupation-toitures/02_Data/processed/test_lidar/NNB/{filename}', \n",
    "            parameter=\"intensity\", \n",
    "            returns=return_points,\n",
    "            exclude_cls='1,2,3,5,7,9,13,15,16,19',\n",
    "            radius=radius,\n",
    "            resolution=resolution,\n",
    "        )"
   ]
  },
  {
   "cell_type": "code",
   "execution_count": null,
   "metadata": {},
   "outputs": [],
   "source": [
    "radius=0.3\n",
    "resolution=0.3\n",
    "return_points='last'\n",
    "filename=f'lidar_intentity_{str(resolution).replace(\".\", \"pt\")}_{str(radius).replace(\".\", \"pt\")}_{return_points}.tif'\n",
    "wbt.lidar_nearest_neighbour_gridding(\n",
    "    i=INPUT, \n",
    "    output=f'C:/Users/gwena/Documents/STDL/2_En_cours/occupation-toitures/02_Data/processed/test_lidar/NNB/{filename}', \n",
    "    parameter=\"intensity\", \n",
    "    returns=return_points,\n",
    "    exclude_cls='1,2,3,5,7,9,13,15,16,19',\n",
    "    radius=radius,\n",
    "    resolution=resolution,\n",
    ")"
   ]
  },
  {
   "cell_type": "code",
   "execution_count": null,
   "metadata": {},
   "outputs": [],
   "source": []
  }
 ],
 "metadata": {
  "kernelspec": {
   "display_name": "rooftops",
   "language": "python",
   "name": "python3"
  },
  "language_info": {
   "codemirror_mode": {
    "name": "ipython",
    "version": 3
   },
   "file_extension": ".py",
   "mimetype": "text/x-python",
   "name": "python",
   "nbconvert_exporter": "python",
   "pygments_lexer": "ipython3",
   "version": "3.11.4"
  },
  "orig_nbformat": 4
 },
 "nbformat": 4,
 "nbformat_minor": 2
}
