{
 "cells": [
  {
   "cell_type": "code",
   "execution_count": null,
   "metadata": {},
   "outputs": [],
   "source": [
    "import os, sys\n",
    "import yaml\n",
    "from loguru import logger\n",
    "\n",
    "import laspy\n",
    "# import PDAL\n",
    "import numpy as np\n",
    "\n",
    "import matplotlib.pyplot as plt\n"
   ]
  },
  {
   "cell_type": "code",
   "execution_count": null,
   "metadata": {},
   "outputs": [],
   "source": [
    "sys.path.insert(1, '..')\n",
    "import functions.fct_misc as fct"
   ]
  },
  {
   "cell_type": "code",
   "execution_count": 1,
   "metadata": {},
   "outputs": [],
   "source": [
    "INPUT='initial/LiDAR/2498500_1117500.las'\n",
    "WORKING_DIR='/mnt/data-01/gsalamin/occupation-toitures/'"
   ]
  },
  {
   "cell_type": "code",
   "execution_count": null,
   "metadata": {},
   "outputs": [],
   "source": [
    "logger=fct.format_logger(logger)\n",
    "os.chdir(WORKING_DIR)"
   ]
  },
  {
   "cell_type": "code",
   "execution_count": null,
   "metadata": {},
   "outputs": [],
   "source": [
    "las_tile=laspy.read(INPUT)"
   ]
  },
  {
   "cell_type": "code",
   "execution_count": null,
   "metadata": {},
   "outputs": [],
   "source": [
    "plt.hist(las_tile.intensity)\n",
    "plt.yscale('log')\n",
    "plt.title(\"Histogram of the Intensity Dimension\")"
   ]
  },
  {
   "cell_type": "code",
   "execution_count": null,
   "metadata": {},
   "outputs": [],
   "source": [
    "logger.info('Metrics:')\n",
    "logger.info(f'The data are all between {las_tile.intensity.min()} and {las_tile.intensity.max()} ' +\n",
    "            f'around a median of {np.median(las_tile.intensity)} with a standard deviation of {las_tile.intensity.std().round(2)} '  +\n",
    "            f'and a mean of {las_tile.intensity.mean().round(2)}.')"
   ]
  },
  {
   "cell_type": "code",
   "execution_count": null,
   "metadata": {},
   "outputs": [],
   "source": [
    "las_tile.intensity.shape"
   ]
  },
  {
   "cell_type": "code",
   "execution_count": 2,
   "metadata": {},
   "outputs": [],
   "source": [
    "from whitebox import WhiteboxTools\n",
    "\n",
    "wbt = WhiteboxTools()\n",
    "wbt.set_working_dir(WORKING_DIR)"
   ]
  },
  {
   "cell_type": "code",
   "execution_count": 3,
   "metadata": {},
   "outputs": [
    {
     "data": {
      "text/plain": [
       "\"./whitebox_tools: /lib/x86_64-linux-gnu/libm.so.6: version `GLIBC_2.35' not found (required by ./whitebox_tools)\\n./whitebox_tools: /lib/x86_64-linux-gnu/libc.so.6: version `GLIBC_2.33' not found (required by ./whitebox_tools)\\n./whitebox_tools: /lib/x86_64-linux-gnu/libc.so.6: version `GLIBC_2.32' not found (required by ./whitebox_tools)\\n./whitebox_tools: /lib/x86_64-linux-gnu/libc.so.6: version `GLIBC_2.34' not found (required by ./whitebox_tools)\\n\""
      ]
     },
     "execution_count": 3,
     "metadata": {},
     "output_type": "execute_result"
    }
   ],
   "source": [
    "wbt.help()"
   ]
  },
  {
   "cell_type": "code",
   "execution_count": null,
   "metadata": {},
   "outputs": [],
   "source": [
    "wbt.lidar_info(\n",
    "    INPUT, \n",
    "    'processed/test_lidar/lidar_info.html', \n",
    "    density=True, \n",
    "    vlr=True, \n",
    "    geokeys=True,\n",
    ")"
   ]
  },
  {
   "cell_type": "code",
   "execution_count": null,
   "metadata": {},
   "outputs": [],
   "source": []
  }
 ],
 "metadata": {
  "kernelspec": {
   "display_name": "rooftops",
   "language": "python",
   "name": "python3"
  },
  "language_info": {
   "codemirror_mode": {
    "name": "ipython",
    "version": 3
   },
   "file_extension": ".py",
   "mimetype": "text/x-python",
   "name": "python",
   "nbconvert_exporter": "python",
   "pygments_lexer": "ipython3",
   "version": "3.8.10"
  },
  "orig_nbformat": 4
 },
 "nbformat": 4,
 "nbformat_minor": 2
}
