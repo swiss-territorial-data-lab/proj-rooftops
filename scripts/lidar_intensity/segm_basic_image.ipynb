{
 "cells": [
  {
   "cell_type": "code",
   "execution_count": null,
   "metadata": {},
   "outputs": [],
   "source": [
    "import os, sys\n",
    "from loguru import logger\n",
    "\n",
    "import numpy as np\n",
    "import rasterio as rio\n",
    "\n",
    "from matplotlib import pyplot as plt\n",
    "\n",
    "from skimage.color import label2rgb, gray2rgb\n",
    "from skimage.data import astronaut, camera\n",
    "from skimage.graph import *\n",
    "from skimage.segmentation import felzenszwalb, quickshift, slic, watershed\n"
   ]
  },
  {
   "cell_type": "code",
   "execution_count": null,
   "metadata": {},
   "outputs": [],
   "source": [
    "sys.path.insert(1, '..')\n",
    "import functions.fct_misc as fct\n",
    "\n",
    "logger=fct.format_logger(logger)"
   ]
  },
  {
   "cell_type": "code",
   "execution_count": null,
   "metadata": {},
   "outputs": [],
   "source": [
    "def print_im_segm_and_agg(image, segmented_image):\n",
    "    out1=label2rgb(segmented_image, image, kind='avg', bg_label=0)\n",
    "\n",
    "    print('Compute the graph')\n",
    "    graph_segments=rag_mean_color(image, segmented_image)\n",
    "    print('Merge segments')\n",
    "    labels2=cut_normalized(segmented_image, graph_segments, 29)\n",
    "    out2=label2rgb(labels2, image, kind='avg', bg_label=0)\n",
    "\n",
    "    print('Plot results')\n",
    "    fig, ax = plt.subplots(nrows=2, sharex=True, sharey=True, figsize=(6, 8))\n",
    "\n",
    "    ax[0].imshow(out1)\n",
    "    ax[1].imshow(out2)\n",
    "\n",
    "    for a in ax:\n",
    "        a.axis('off')\n",
    "\n",
    "    plt.tight_layout()"
   ]
  },
  {
   "cell_type": "code",
   "execution_count": null,
   "metadata": {},
   "outputs": [],
   "source": [
    "WORKING_DIR='C:/Users/gwena/Documents/STDL/2_En_cours/occupation-toitures/02_Data/processed'\n",
    "\n",
    "os.chdir(WORKING_DIR)\n",
    "\n",
    "# image=camera()\n",
    "# IMAGE_PATH='test_review/tile_list/tile_EGID_295135306.tif'\n",
    "# IMAGE_PATH='test_review/tile_list/masked_images/tile_EGID_295135306_masked.tif'\n",
    "IMAGE_PATH='roofs/normalized_masked_intensity_images/305963_normalized_intensity.tif'\n",
    "with rio.open(IMAGE_PATH) as src:\n",
    "    image=src.read(1)\n",
    "    original_image=src.read()\n",
    "\n",
    "original_image=np.transpose(original_image, [1, 2, 0])"
   ]
  },
  {
   "cell_type": "code",
   "execution_count": null,
   "metadata": {},
   "outputs": [],
   "source": [
    "np.nan_to_num(image, copy=False, nan=999)"
   ]
  },
  {
   "cell_type": "code",
   "execution_count": null,
   "metadata": {},
   "outputs": [],
   "source": [
    "scale=100\n",
    "sigma=0.4\n",
    "min_size=15\n",
    "segmented_fel_image=felzenszwalb(image, scale=scale, sigma=sigma, min_size=min_size)"
   ]
  },
  {
   "cell_type": "code",
   "execution_count": null,
   "metadata": {},
   "outputs": [],
   "source": [
    "fig, ax = plt.subplots(nrows=2, sharex=True, sharey=True, figsize=(6, 8))\n",
    "ax[0].imshow(image)\n",
    "ax[1].imshow(segmented_fel_image)"
   ]
  },
  {
   "cell_type": "code",
   "execution_count": null,
   "metadata": {},
   "outputs": [],
   "source": [
    "ratio=1\n",
    "kernel_size=3\n",
    "max_dist=6\n",
    "segmented_qs_image=quickshift(image, ratio=ratio, kernel_size=kernel_size, max_dist=max_dist, convert2lab=False)"
   ]
  },
  {
   "cell_type": "code",
   "execution_count": null,
   "metadata": {},
   "outputs": [],
   "source": [
    "fig, ax = plt.subplots(nrows=2, sharex=True, sharey=True, figsize=(6, 8))\n",
    "ax[0].imshow(image)\n",
    "ax[1].imshow(segmented_qs_image)"
   ]
  },
  {
   "cell_type": "code",
   "execution_count": null,
   "metadata": {},
   "outputs": [],
   "source": [
    "n_segments=20\n",
    "compactness=0.01\n",
    "max_num_iter=10\n",
    "sigma=0\n",
    "enforce_connectivity=False\n",
    "min_size_factor=0.5\n",
    "max_size_factor=1\n",
    "slic_zero=False\n",
    "start_label=1\n",
    "segmented_slic_image=slic(image, n_segments=n_segments, compactness=compactness, max_num_iter=max_num_iter,\n",
    "                sigma=sigma, enforce_connectivity=enforce_connectivity, min_size_factor=min_size_factor, max_size_factor=max_size_factor, slic_zero=slic_zero,\n",
    "                start_label=start_label, mask=None, channel_axis=None)"
   ]
  },
  {
   "cell_type": "code",
   "execution_count": null,
   "metadata": {},
   "outputs": [],
   "source": [
    "fig, ax = plt.subplots(nrows=2, sharex=True, sharey=True, figsize=(6, 8))\n",
    "ax[0].imshow(image)\n",
    "ax[1].imshow(segmented_slic_image)"
   ]
  },
  {
   "cell_type": "code",
   "execution_count": null,
   "metadata": {},
   "outputs": [],
   "source": [
    "# https://stackoverflow.com/questions/58812104/skimage-rag-merging-for-gray-images\n",
    "image_three_bands=gray2rgb(image)\n",
    "graph_slic=rag_mean_color(image_three_bands, segmented_slic_image, mode='similarity', sigma=50)\n",
    "new_segmentation=cut_normalized(segmented_slic_image, graph_slic)"
   ]
  },
  {
   "cell_type": "code",
   "execution_count": null,
   "metadata": {},
   "outputs": [],
   "source": [
    "fig, ax = plt.subplots(nrows=2, sharex=True, sharey=True, figsize=(6, 8))\n",
    "\n",
    "ax[0].set_title('RAG drawn with default settings')\n",
    "lc = show_rag(segmented_slic_image, graph_slic, image_three_bands, ax=ax[0])\n",
    "# specify the fraction of the plot area that will be used to draw the colorbar\n",
    "fig.colorbar(lc, fraction=0.03, ax=ax[0])\n",
    "\n",
    "ax[1].set_title('RAG drawn with grayscale image and viridis colormap')\n",
    "lc = show_rag(segmented_slic_image, graph_slic, image_three_bands,\n",
    "                    img_cmap='gray', edge_cmap='viridis', ax=ax[1])\n",
    "fig.colorbar(lc, fraction=0.03, ax=ax[1])\n",
    "\n",
    "for a in ax:\n",
    "    a.axis('off')\n",
    "\n",
    "plt.tight_layout()\n",
    "plt.show()"
   ]
  },
  {
   "cell_type": "code",
   "execution_count": null,
   "metadata": {},
   "outputs": [],
   "source": [
    "fig, ax = plt.subplots(nrows=2, sharex=True, sharey=True, figsize=(6, 8))\n",
    "ax[0].imshow(original_image)\n",
    "ax[1].imshow(new_segmentation)"
   ]
  },
  {
   "cell_type": "code",
   "execution_count": null,
   "metadata": {},
   "outputs": [],
   "source": [
    "new_segmentation = cut_threshold(segmented_slic_image, graph_slic, 10, in_place=False)\n",
    "fig, ax = plt.subplots(nrows=2, sharex=True, sharey=True, figsize=(6, 8))\n",
    "ax[0].imshow(original_image)\n",
    "ax[1].imshow(new_segmentation)"
   ]
  },
  {
   "cell_type": "code",
   "execution_count": null,
   "metadata": {},
   "outputs": [],
   "source": [
    "markers=750\n",
    "compactness=0.001\n",
    "watershed_line=True\n",
    "segmented_ws_image=watershed(image, markers=markers, compactness=compactness, watershed_line=watershed_line)"
   ]
  },
  {
   "cell_type": "code",
   "execution_count": null,
   "metadata": {},
   "outputs": [],
   "source": [
    "fig, ax = plt.subplots(nrows=2, sharex=True, sharey=True, figsize=(6, 8))\n",
    "ax[0].imshow(image)\n",
    "ax[1].imshow(segmented_ws_image)"
   ]
  },
  {
   "cell_type": "code",
   "execution_count": null,
   "metadata": {},
   "outputs": [],
   "source": [
    "def _weight_mean_color(graph, src, dst, n):\n",
    "    \"\"\"Callback to handle merging nodes by recomputing mean color.\n",
    "\n",
    "    The method expects that the mean color of `dst` is already computed.\n",
    "\n",
    "    Parameters\n",
    "    ----------\n",
    "    graph : RAG\n",
    "        The graph under consideration.\n",
    "    src, dst : int\n",
    "        The vertices in `graph` to be merged.\n",
    "    n : int\n",
    "        A neighbor of `src` or `dst` or both.\n",
    "\n",
    "    Returns\n",
    "    -------\n",
    "    data : dict\n",
    "        A dictionary with the `\"weight\"` attribute set as the absolute\n",
    "        difference of the mean color between node `dst` and `n`.\n",
    "    \"\"\"\n",
    "\n",
    "    diff = graph.nodes[dst]['mean color'] - graph.nodes[n]['mean color']\n",
    "    diff = np.linalg.norm(diff)\n",
    "    return {'weight': diff}\n",
    "\n",
    "\n",
    "def merge_mean_color(graph, src, dst):\n",
    "    \"\"\"Callback called before merging two nodes of a mean color distance graph.\n",
    "\n",
    "    This method computes the mean color of `dst`.\n",
    "\n",
    "    Parameters\n",
    "    ----------\n",
    "    graph : RAG\n",
    "        The graph under consideration.\n",
    "    src, dst : int\n",
    "        The vertices in `graph` to be merged.\n",
    "    \"\"\"\n",
    "    graph.nodes[dst]['total color'] += graph.nodes[src]['total color']\n",
    "    graph.nodes[dst]['pixel count'] += graph.nodes[src]['pixel count']\n",
    "    graph.nodes[dst]['mean color'] = (graph.nodes[dst]['total color'] /\n",
    "                                      graph.nodes[dst]['pixel count'])\n",
    "\n",
    "image_three_bands=gray2rgb(image)\n",
    "graph_slic=rag_mean_color(image_three_bands, segmented_slic_image, mode='similarity', sigma=25)\n",
    "new_segmentation=cut_normalized(segmented_slic_image, graph_slic)\n",
    "\n",
    "new_segmentation = merge_hierarchical(segmented_slic_image, graph_slic, thresh=35, rag_copy=False,\n",
    "                                   in_place_merge=True,\n",
    "                                   merge_func=merge_mean_color,\n",
    "                                   weight_func=_weight_mean_color)\n",
    "\n",
    "fig, ax = plt.subplots(nrows=2, sharex=True, sharey=True, figsize=(6, 8))\n",
    "ax[0].imshow(original_image)\n",
    "ax[1].imshow(new_segmentation)"
   ]
  },
  {
   "cell_type": "code",
   "execution_count": null,
   "metadata": {},
   "outputs": [],
   "source": [
    "graph_slic._adj"
   ]
  },
  {
   "cell_type": "code",
   "execution_count": null,
   "metadata": {},
   "outputs": [],
   "source": []
  }
 ],
 "metadata": {
  "kernelspec": {
   "display_name": "rooftops",
   "language": "python",
   "name": "python3"
  },
  "language_info": {
   "codemirror_mode": {
    "name": "ipython",
    "version": 3
   },
   "file_extension": ".py",
   "mimetype": "text/x-python",
   "name": "python",
   "nbconvert_exporter": "python",
   "pygments_lexer": "ipython3",
   "version": "3.11.4"
  },
  "orig_nbformat": 4
 },
 "nbformat": 4,
 "nbformat_minor": 2
}
